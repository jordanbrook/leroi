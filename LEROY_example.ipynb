{
 "cells": [
  {
   "cell_type": "code",
   "execution_count": 1,
   "metadata": {},
   "outputs": [
    {
     "name": "stdout",
     "output_type": "stream",
     "text": [
      "\n",
      "## You are using the Python ARM Radar Toolkit (Py-ART), an open source\n",
      "## library for working with weather radar data. Py-ART is partly\n",
      "## supported by the U.S. Department of Energy as part of the Atmospheric\n",
      "## Radiation Measurement (ARM) Climate Research Facility, an Office of\n",
      "## Science user facility.\n",
      "##\n",
      "## If you use this software to prepare a publication, please cite:\n",
      "##\n",
      "##     JJ Helmus and SM Collis, JORS 2016, doi: 10.5334/jors.119\n",
      "\n"
     ]
    }
   ],
   "source": [
    "import pyart\n",
    "import numpy as np\n",
    "import os, sys\n",
    "import pylops\n",
    "import warnings\n",
    "import matplotlib.pyplot as plt\n",
    "from tqdm import tqdm\n",
    "\n",
    "# add location of local leroy modules to sys.path and import them\n",
    "sys.path.append(os.path.dirname(os.path.dirname(os.path.abspath('leroy.py'))))\n",
    "import leroy \n",
    "import qc "
   ]
  },
  {
   "cell_type": "code",
   "execution_count": 2,
   "metadata": {},
   "outputs": [
    {
     "ename": "FileNotFoundError",
     "evalue": "[Errno 2] No such file or directory: '/g/data/hj10/cpol/cpol_level_1b/v2020/ppi/2002/20021124/twp10cpolppi.b1.20021124.110000.nc'",
     "output_type": "error",
     "traceback": [
      "\u001b[0;31m---------------------------------------------------------------------------\u001b[0m",
      "\u001b[0;31mFileNotFoundError\u001b[0m                         Traceback (most recent call last)",
      "\u001b[0;32m<ipython-input-2-5255e5af3528>\u001b[0m in \u001b[0;36m<module>\u001b[0;34m\u001b[0m\n\u001b[1;32m      2\u001b[0m \u001b[0;32mwith\u001b[0m \u001b[0mwarnings\u001b[0m\u001b[0;34m.\u001b[0m\u001b[0mcatch_warnings\u001b[0m\u001b[0;34m(\u001b[0m\u001b[0;34m)\u001b[0m\u001b[0;34m:\u001b[0m\u001b[0;34m\u001b[0m\u001b[0;34m\u001b[0m\u001b[0m\n\u001b[1;32m      3\u001b[0m     \u001b[0mwarnings\u001b[0m\u001b[0;34m.\u001b[0m\u001b[0mfilterwarnings\u001b[0m\u001b[0;34m(\u001b[0m\u001b[0;34m\"ignore\"\u001b[0m\u001b[0;34m)\u001b[0m\u001b[0;34m\u001b[0m\u001b[0;34m\u001b[0m\u001b[0m\n\u001b[0;32m----> 4\u001b[0;31m     \u001b[0mradar\u001b[0m \u001b[0;34m=\u001b[0m \u001b[0mpyart\u001b[0m\u001b[0;34m.\u001b[0m\u001b[0mio\u001b[0m\u001b[0;34m.\u001b[0m\u001b[0mread\u001b[0m\u001b[0;34m(\u001b[0m\u001b[0;34m\"/g/data/hj10/cpol/cpol_level_1b/v2020/ppi/2002/20021124/twp10cpolppi.b1.20021124.110000.nc\"\u001b[0m\u001b[0;34m)\u001b[0m\u001b[0;34m\u001b[0m\u001b[0;34m\u001b[0m\u001b[0m\n\u001b[0m\u001b[1;32m      5\u001b[0m     \u001b[0mradar\u001b[0m\u001b[0;34m.\u001b[0m\u001b[0madd_field_like\u001b[0m\u001b[0;34m(\u001b[0m\u001b[0mfield\u001b[0m\u001b[0;34m,\u001b[0m \u001b[0mfield\u001b[0m\u001b[0;34m+\u001b[0m\u001b[0;34m'_original'\u001b[0m\u001b[0;34m,\u001b[0m \u001b[0mradar\u001b[0m\u001b[0;34m.\u001b[0m\u001b[0mfields\u001b[0m\u001b[0;34m[\u001b[0m\u001b[0mfield\u001b[0m\u001b[0;34m]\u001b[0m\u001b[0;34m[\u001b[0m\u001b[0;34m'data'\u001b[0m\u001b[0;34m]\u001b[0m\u001b[0;34m)\u001b[0m\u001b[0;34m\u001b[0m\u001b[0;34m\u001b[0m\u001b[0m\n\u001b[1;32m      6\u001b[0m     \u001b[0mradar\u001b[0m \u001b[0;34m=\u001b[0m \u001b[0mqc\u001b[0m\u001b[0;34m.\u001b[0m\u001b[0mmask_invalid_data\u001b[0m\u001b[0;34m(\u001b[0m\u001b[0mradar\u001b[0m\u001b[0;34m,\u001b[0m \u001b[0;34m'corrected_reflectivity'\u001b[0m\u001b[0;34m,\u001b[0m \u001b[0madd_to\u001b[0m \u001b[0;34m=\u001b[0m \u001b[0;34m[\u001b[0m\u001b[0mfield\u001b[0m\u001b[0;34m]\u001b[0m\u001b[0;34m,\u001b[0m \u001b[0mmin_field\u001b[0m \u001b[0;34m=\u001b[0m \u001b[0;36m5\u001b[0m\u001b[0;34m,\u001b[0m \u001b[0mmin_area\u001b[0m \u001b[0;34m=\u001b[0m \u001b[0;36m50\u001b[0m\u001b[0;34m,\u001b[0m \u001b[0mreturn_smooth\u001b[0m \u001b[0;34m=\u001b[0m \u001b[0;32mFalse\u001b[0m\u001b[0;34m)\u001b[0m\u001b[0;34m\u001b[0m\u001b[0;34m\u001b[0m\u001b[0m\n",
      "\u001b[0;32m~/anaconda3/envs/pyartenv/lib/python3.8/site-packages/pyart/io/auto_read.py\u001b[0m in \u001b[0;36mread\u001b[0;34m(filename, use_rsl, **kwargs)\u001b[0m\n\u001b[1;32m     72\u001b[0m \u001b[0;34m\u001b[0m\u001b[0m\n\u001b[1;32m     73\u001b[0m     \"\"\"\n\u001b[0;32m---> 74\u001b[0;31m     \u001b[0mfiletype\u001b[0m \u001b[0;34m=\u001b[0m \u001b[0mdetermine_filetype\u001b[0m\u001b[0;34m(\u001b[0m\u001b[0mfilename\u001b[0m\u001b[0;34m)\u001b[0m\u001b[0;34m\u001b[0m\u001b[0;34m\u001b[0m\u001b[0m\n\u001b[0m\u001b[1;32m     75\u001b[0m \u001b[0;34m\u001b[0m\u001b[0m\n\u001b[1;32m     76\u001b[0m     \u001b[0;31m# Bzip, uncompress and see if we can determine the type\u001b[0m\u001b[0;34m\u001b[0m\u001b[0;34m\u001b[0m\u001b[0;34m\u001b[0m\u001b[0m\n",
      "\u001b[0;32m~/anaconda3/envs/pyartenv/lib/python3.8/site-packages/pyart/io/auto_read.py\u001b[0m in \u001b[0;36mdetermine_filetype\u001b[0;34m(filename)\u001b[0m\n\u001b[1;32m    180\u001b[0m     \u001b[0;31m# read the first 12 bytes from the file\u001b[0m\u001b[0;34m\u001b[0m\u001b[0;34m\u001b[0m\u001b[0;34m\u001b[0m\u001b[0m\n\u001b[1;32m    181\u001b[0m     \u001b[0;32mtry\u001b[0m\u001b[0;34m:\u001b[0m\u001b[0;34m\u001b[0m\u001b[0;34m\u001b[0m\u001b[0m\n\u001b[0;32m--> 182\u001b[0;31m         \u001b[0mf\u001b[0m \u001b[0;34m=\u001b[0m \u001b[0mopen\u001b[0m\u001b[0;34m(\u001b[0m\u001b[0mfilename\u001b[0m\u001b[0;34m,\u001b[0m \u001b[0;34m'rb'\u001b[0m\u001b[0;34m)\u001b[0m\u001b[0;34m\u001b[0m\u001b[0;34m\u001b[0m\u001b[0m\n\u001b[0m\u001b[1;32m    183\u001b[0m         \u001b[0mbegin\u001b[0m \u001b[0;34m=\u001b[0m \u001b[0mf\u001b[0m\u001b[0;34m.\u001b[0m\u001b[0mread\u001b[0m\u001b[0;34m(\u001b[0m\u001b[0;36m12\u001b[0m\u001b[0;34m)\u001b[0m\u001b[0;34m\u001b[0m\u001b[0;34m\u001b[0m\u001b[0m\n\u001b[1;32m    184\u001b[0m         \u001b[0mf\u001b[0m\u001b[0;34m.\u001b[0m\u001b[0mclose\u001b[0m\u001b[0;34m(\u001b[0m\u001b[0;34m)\u001b[0m\u001b[0;34m\u001b[0m\u001b[0;34m\u001b[0m\u001b[0m\n",
      "\u001b[0;31mFileNotFoundError\u001b[0m: [Errno 2] No such file or directory: '/g/data/hj10/cpol/cpol_level_1b/v2020/ppi/2002/20021124/twp10cpolppi.b1.20021124.110000.nc'"
     ]
    }
   ],
   "source": [
    "field = 'corrected_velocity'\n",
    "with warnings.catch_warnings():\n",
    "    warnings.filterwarnings(\"ignore\")\n",
    "    radar = pyart.io.read(\"/g/data/hj10/cpol/cpol_level_1b/v2020/ppi/2002/20021124/twp10cpolppi.b1.20021124.110000.nc\")\n",
    "    radar.add_field_like(field, field+'_original', radar.fields[field]['data'])\n",
    "    radar = qc.mask_invalid_data(radar, 'corrected_reflectivity', add_to = [field], min_field = 5, min_area = 50, return_smooth = False)\n"
   ]
  },
  {
   "cell_type": "code",
   "execution_count": null,
   "metadata": {},
   "outputs": [],
   "source": [
    "# create the plot using RadarDisplay\n",
    "gb = ((0,5), (-100,100), (-100,100))\n",
    "rlim = (0,100)\n",
    "tilt, ray, vmin, vmax = 1,236, -20, 20\n",
    "\n",
    "display = pyart.graph.RadarDisplay(radar)\n",
    "fig = plt.figure(figsize=(10, 7))\n",
    "\n",
    "ax = fig.add_subplot(221)\n",
    "ax.plot(0,0, 'k^')\n",
    "display.plot_ppi(field+'_original', tilt, ax=ax,colorbar_flag= True,\n",
    "             colorbar_label='',vmin = vmin, vmax = vmax, title=  'Raw',cmap = 'pyart_homeyerrainbow')\n",
    "display.set_limits(gb[2], gb[1], ax=ax)\n",
    "\n",
    "ax = fig.add_subplot(222)\n",
    "ax.plot(0,0, 'k^')\n",
    "\n",
    "display.plot_ppi(field+'', tilt, ax=ax,colorbar_flag= True, axislabels_flag = False,\n",
    "             colorbar_label='',vmin = vmin, vmax = vmax, title=  'Raw, Masked',cmap = 'pyart_homeyerrainbow')\n",
    "display.set_limits(gb[2], gb[1], ax=ax)\n",
    "\n",
    "xsect = pyart.util.cross_section_ppi(radar, [ray])\n",
    "display = pyart.graph.RadarDisplay(xsect)\n",
    "\n",
    "ax = fig.add_subplot(223)\n",
    "ax.plot(0,0, 'k^')\n",
    "\n",
    "display.plot(field+'_original', 0, colorbar_flag= True, vmin = vmin, vmax = vmax,colorbar_label='',\n",
    "             title=  '',cmap = 'pyart_homeyerrainbow')\n",
    "display.set_limits(rlim, gb[0], ax=ax)\n",
    "display = pyart.graph.RadarDisplay(xsect)\n",
    "\n",
    "ax = fig.add_subplot(224)\n",
    "ax.plot(0,0, 'k^')\n",
    "\n",
    "display.plot(field+'', 0, colorbar_flag= True, vmin = vmin, vmax = vmax, title=  '',colorbar_label='',\n",
    "             axislabels_flag = False,cmap = 'pyart_homeyerrainbow')\n",
    "display.set_limits(rlim, gb[0], ax=ax)\n",
    "\n",
    "plt.tight_layout()\n",
    "plt.show()"
   ]
  }
 ],
 "metadata": {
  "kernelspec": {
   "display_name": "Python [conda env:pyartenv]",
   "language": "python",
   "name": "conda-env-pyartenv-py"
  },
  "language_info": {
   "codemirror_mode": {
    "name": "ipython",
    "version": 3
   },
   "file_extension": ".py",
   "mimetype": "text/x-python",
   "name": "python",
   "nbconvert_exporter": "python",
   "pygments_lexer": "ipython3",
   "version": "3.8.3"
  }
 },
 "nbformat": 4,
 "nbformat_minor": 4
}
