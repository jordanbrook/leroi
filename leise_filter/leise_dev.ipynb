{
 "cells": [
  {
   "cell_type": "markdown",
   "id": "genetic-bumper",
   "metadata": {},
   "source": [
    "## Leise filter development\n",
    "\n",
    "So the filter itself is in the leise_filt.f file. There is also an example of how to use it in the `leise-example.c` file. \n",
    "\n",
    "Build like so -- \\\n",
    "    `gfortran -o leise_example leise_filt.f leise_example.c`\\\n",
    "Run --\\\n",
    "   `./leise_example`\n",
    "   \n",
    "I've saved and plotted the output of this example below so we can check our python implementation."
   ]
  },
  {
   "cell_type": "code",
   "execution_count": 12,
   "id": "herbal-jaguar",
   "metadata": {},
   "outputs": [],
   "source": [
    "import numpy as np\n",
    "import matplotlib.pyplot as plt\n",
    "f = np.zeros((6,7), dtype='f')\n",
    "f[2:4, 2:5] = 4.0\n",
    "f_leise = np.array([[0.016, -0.047, -0.203, -0.281, -0.203, -0.047,  0.016],\n",
    "                  [-0.047,  0.141,  0.609,  0.844,  0.609,  0.141, -0.047],\n",
    "                  [-0.219,  0.656,  2.844,  3.938,  2.844,  0.656, -0.219],\n",
    "                  [-0.219,  0.656,  2.844,  3.938,  2.844,  0.656, -0.219],\n",
    "                  [-0.047,  0.141,  0.609,  0.844,  0.609,  0.141, -0.047],\n",
    "                  [ 0.016, -0.047, -0.203, -0.281, -0.203, -0.047,  0.016]])"
   ]
  },
  {
   "cell_type": "code",
   "execution_count": 10,
   "id": "tutorial-planet",
   "metadata": {},
   "outputs": [
    {
     "data": {
      "image/png": "[encoded data removed]",
      "text/plain": [
       "<Figure size 576x216 with 2 Axes>"
      ]
     },
     "metadata": {
      "needs_background": "light"
     },
     "output_type": "display_data"
    }
   ],
   "source": [
    "fig = plt.figure(figsize = (8,3))\n",
    "ax = fig.add_subplot(121)\n",
    "ax.pcolormesh(f, vmin=0, vmax = 4)\n",
    "ax.set_title('Input Array')\n",
    "ax = fig.add_subplot(122)\n",
    "ax.pcolormesh(f_leise, vmin=0, vmax = 4)\n",
    "ax.set_title('Leise Filtered')\n",
    "plt.show()"
   ]
  },
  {
   "cell_type": "markdown",
   "id": "premium-subsection",
   "metadata": {},
   "source": [
    "I've tried the following to get it wrapped in python:\n",
    "\n",
    "`python -m numpy.f2py -c leise_filt.f -m leise`\n",
    "\n",
    "which does compile and produces the *leise.cpython-37m-x86_64-linux-gnu.so* file in this folder. This allows me to import the new `leise` module and print the info for the required function."
   ]
  },
  {
   "cell_type": "code",
   "execution_count": 15,
   "id": "aggregate-environment",
   "metadata": {},
   "outputs": [
    {
     "name": "stdout",
     "output_type": "stream",
     "text": [
      "t5fltr(y,n1,n2,n3,nstep)\n",
      "\n",
      "Wrapper for ``t5fltr``.\n",
      "\n",
      "Parameters\n",
      "----------\n",
      "y : input rank-1 array('f') with bounds (1)\n",
      "n1 : input int\n",
      "n2 : input int\n",
      "n3 : input int\n",
      "nstep : input int\n",
      "\n"
     ]
    }
   ],
   "source": [
    "import leise\n",
    "print(leise.t5fltr.__doc__)"
   ]
  },
  {
   "cell_type": "markdown",
   "id": "dirty-interstate",
   "metadata": {},
   "source": [
    "However when I try to actually do the filtering, i get an error saying that it expects the input array to be 1 long. I cant see where the length of the input array is meant to be allocated or how to change this so this is where I'm stuck. Thank you!!"
   ]
  },
  {
   "cell_type": "code",
   "execution_count": 16,
   "id": "latter-midnight",
   "metadata": {},
   "outputs": [
    {
     "ename": "ValueError",
     "evalue": "failed in converting 1st argument `y' of leise.t5fltr to C/Fortran array",
     "output_type": "error",
     "traceback": [
      "\u001b[0;31m---------------------------------------------------------------------------\u001b[0m",
      "\u001b[0;31mValueError\u001b[0m                                Traceback (most recent call last)",
      "\u001b[0;31mValueError\u001b[0m: 0-th dimension must be fixed to 1 but got 42\n",
      "\nThe above exception was the direct cause of the following exception:\n",
      "\u001b[0;31mValueError\u001b[0m                                Traceback (most recent call last)",
      "\u001b[0;32m<ipython-input-16-3c0e9e834eef>\u001b[0m in \u001b[0;36m<module>\u001b[0;34m\u001b[0m\n\u001b[0;32m----> 1\u001b[0;31m \u001b[0mleise\u001b[0m\u001b[0;34m.\u001b[0m\u001b[0mt5fltr\u001b[0m\u001b[0;34m(\u001b[0m\u001b[0mf\u001b[0m\u001b[0;34m.\u001b[0m\u001b[0mravel\u001b[0m\u001b[0;34m(\u001b[0m\u001b[0;34m)\u001b[0m\u001b[0;34m,\u001b[0m \u001b[0;36m6\u001b[0m\u001b[0;34m,\u001b[0m\u001b[0;36m7\u001b[0m\u001b[0;34m,\u001b[0m\u001b[0;36m1\u001b[0m\u001b[0;34m,\u001b[0m\u001b[0;36m1\u001b[0m\u001b[0;34m)\u001b[0m\u001b[0;34m\u001b[0m\u001b[0;34m\u001b[0m\u001b[0m\n\u001b[0m",
      "\u001b[0;31mValueError\u001b[0m: failed in converting 1st argument `y' of leise.t5fltr to C/Fortran array"
     ]
    }
   ],
   "source": [
    "leise.t5fltr(f.ravel(), 6,7,1,1)"
   ]
  },
  {
   "cell_type": "code",
   "execution_count": null,
   "id": "aware-entity",
   "metadata": {},
   "outputs": [],
   "source": []
  }
 ],
 "metadata": {
  "kernelspec": {
   "display_name": "Python 3",
   "language": "python",
   "name": "python3"
  },
  "language_info": {
   "codemirror_mode": {
    "name": "ipython",
    "version": 3
   },
   "file_extension": ".py",
   "mimetype": "text/x-python",
   "name": "python",
   "nbconvert_exporter": "python",
   "pygments_lexer": "ipython3",
   "version": "3.7.10"
  }
 },
 "nbformat": 4,
 "nbformat_minor": 5
}
