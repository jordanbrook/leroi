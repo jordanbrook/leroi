{
 "cells": [
  {
   "cell_type": "code",
   "execution_count": 2,
   "id": "43808d80",
   "metadata": {
    "ExecuteTime": {
     "end_time": "2021-07-14T05:25:09.573915Z",
     "start_time": "2021-07-14T05:25:09.570113Z"
    }
   },
   "outputs": [],
   "source": [
    "import glob\n",
    "import os"
   ]
  },
  {
   "cell_type": "code",
   "execution_count": 28,
   "id": "4ec8b922",
   "metadata": {
    "ExecuteTime": {
     "end_time": "2021-07-14T06:19:33.955852Z",
     "start_time": "2021-07-14T06:19:33.953216Z"
    }
   },
   "outputs": [],
   "source": [
    "def gen_txt(path, time):\n",
    "    txt = f\"\"\"#!/bin/bash\n",
    "#PBS -P kl02\n",
    "#PBS -q normal\n",
    "#PBS -l walltime={time}:00:00\n",
    "#PBS -l mem=128GB\n",
    "#PBS -l wd\n",
    "#PBS -l jobfs=1GB\n",
    "#PBS -l ncpus=16\n",
    "#PBS -lstorage=scratch/kl02+gdata/hj10\n",
    "\n",
    "source activate radar\n",
    "\n",
    "python grid_leroy.py -i {path}\n",
    "\"\"\"\n",
    "    return txt"
   ]
  },
  {
   "cell_type": "code",
   "execution_count": 29,
   "id": "663a9ead",
   "metadata": {
    "ExecuteTime": {
     "end_time": "2021-07-14T06:19:34.955053Z",
     "start_time": "2021-07-14T06:19:34.952106Z"
    }
   },
   "outputs": [],
   "source": [
    "def get_path(year):\n",
    "    if year < 2009:\n",
    "        fname = f\"/g/data/hj10/cpol/cpol_level_1b/v2020/ppi/{year}\"\n",
    "    else:\n",
    "        fname = f\"/scratch/kl02/vhl548/cpol/cpol_level_1b/v2020/ppi/{year}\"\n",
    "    \n",
    "    if not os.path.exists(fname):\n",
    "        raise FileNotFoundError(\"Lol\")\n",
    "        \n",
    "    n = len(glob.glob(os.path.join(fname, \"*\")))    \n",
    "    hour = 4 * n // 60 \n",
    "    return fname, hour"
   ]
  },
  {
   "cell_type": "code",
   "execution_count": 30,
   "id": "a181ceb7",
   "metadata": {
    "ExecuteTime": {
     "end_time": "2021-07-14T06:19:35.247421Z",
     "start_time": "2021-07-14T06:19:35.175454Z"
    }
   },
   "outputs": [
    {
     "name": "stdout",
     "output_type": "stream",
     "text": [
      "11\n",
      "6\n",
      "10\n",
      "11\n",
      "10\n",
      "9\n",
      "13\n",
      "7\n",
      "1\n",
      "10\n",
      "10\n",
      "12\n",
      "12\n",
      "10\n",
      "11\n",
      "12\n",
      "8\n"
     ]
    }
   ],
   "source": [
    "for year in range(1999, 2018):\n",
    "    if year == 2001:\n",
    "        continue\n",
    "    try:\n",
    "        content = gen_txt(*get_path(year))\n",
    "    except Exception:\n",
    "        continue\n",
    "        \n",
    "    print(get_path(year)[1])\n",
    "        \n",
    "    with open(f\"/home/548/vhl548/projects/RADAR_codes/leroi/scripts/qcpol.{year}.pbs\", \"w+\") as fid:\n",
    "        fid.write(content)"
   ]
  },
  {
   "cell_type": "code",
   "execution_count": null,
   "id": "bfa42537",
   "metadata": {},
   "outputs": [],
   "source": []
  }
 ],
 "metadata": {
  "kernelspec": {
   "display_name": "Python 3",
   "language": "python",
   "name": "python3"
  },
  "language_info": {
   "codemirror_mode": {
    "name": "ipython",
    "version": 3
   },
   "file_extension": ".py",
   "mimetype": "text/x-python",
   "name": "python",
   "nbconvert_exporter": "python",
   "pygments_lexer": "ipython3",
   "version": "3.9.5"
  },
  "varInspector": {
   "cols": {
    "lenName": 16,
    "lenType": 16,
    "lenVar": 40
   },
   "kernels_config": {
    "python": {
     "delete_cmd_postfix": "",
     "delete_cmd_prefix": "del ",
     "library": "var_list.py",
     "varRefreshCmd": "print(var_dic_list())"
    },
    "r": {
     "delete_cmd_postfix": ") ",
     "delete_cmd_prefix": "rm(",
     "library": "var_list.r",
     "varRefreshCmd": "cat(var_dic_list()) "
    }
   },
   "types_to_exclude": [
    "module",
    "function",
    "builtin_function_or_method",
    "instance",
    "_Feature"
   ],
   "window_display": false
  }
 },
 "nbformat": 4,
 "nbformat_minor": 5
}
