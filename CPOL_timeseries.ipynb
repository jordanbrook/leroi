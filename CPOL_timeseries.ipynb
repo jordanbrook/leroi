{
 "cells": [
  {
   "cell_type": "code",
   "execution_count": 2,
   "metadata": {},
   "outputs": [
    {
     "name": "stdout",
     "output_type": "stream",
     "text": [
      "\n",
      "## You are using the Python ARM Radar Toolkit (Py-ART), an open source\n",
      "## library for working with weather radar data. Py-ART is partly\n",
      "## supported by the U.S. Department of Energy as part of the Atmospheric\n",
      "## Radiation Measurement (ARM) Climate Research Facility, an Office of\n",
      "## Science user facility.\n",
      "##\n",
      "## If you use this software to prepare a publication, please cite:\n",
      "##\n",
      "##     JJ Helmus and SM Collis, JORS 2016, doi: 10.5334/jors.119\n",
      "\n"
     ]
    }
   ],
   "source": [
    "import pyart\n",
    "import numpy as np\n",
    "import proplot as plot\n",
    "import os, sys\n",
    "import pylops\n",
    "import warnings\n",
    "import matplotlib.pyplot as plt\n",
    "from tqdm import tqdm\n",
    "\n",
    "# add location of local leroy modules to sys.path and import them\n",
    "sys.path.append(os.path.dirname(os.path.dirname(os.path.abspath('leroy.py'))))\n",
    "import leroy \n",
    "import qc \n"
   ]
  },
  {
   "cell_type": "markdown",
   "metadata": {},
   "source": [
    "# Gridding"
   ]
  },
  {
   "cell_type": "code",
   "execution_count": null,
   "metadata": {},
   "outputs": [],
   "source": [
    "date = '20021124'\n",
    "dirr = '/g/data/hj10/cpol/cpol_level_1b/v2020/ppi/2002/{}/'.format(date)\n",
    "file_list = os.listdir(dirr)\n",
    "file_list = sorted([(dirr+x) for x in file_list if x[-2:] == 'nc'])\n",
    "print(file_list)"
   ]
  },
  {
   "cell_type": "code",
   "execution_count": null,
   "metadata": {},
   "outputs": [],
   "source": [
    "radar = pyart.io.read(\"/g/data/hj10/cpol/cpol_level_1b/v2020/ppi/2002/20021102/twp10cpolppi.b1.20021102.120000.nc\")\n",
    "\n",
    "radar_opts = {'position':(0,0,0)}\n",
    "lon0, lat0 = radar.longitude['data'][0], radar.latitude['data'][0]\n",
    "\n",
    "gs = (41, 201, 201)\n",
    "gb = ((0, 20000), (-100000,100000),(-100000,100000))\n",
    "\n",
    "# define cartesian grid\n",
    "x = np.linspace(gb[2][0],gb[2][1], gs[2])\n",
    "y = np.linspace(gb[1][0],gb[1][1], gs[1])\n",
    "z = np.linspace(gb[0][0],gb[0][1], gs[0])\n",
    "coords = (z-radar_opts['position'][0], y-radar_opts['position'][1], x-radar_opts['position'][2])\n",
    "\n",
    "field = 'corrected_velocity'\n",
    "def const_cressman(radar, field):\n",
    "    grid = pyart.map.grid_from_radars((radar,), grid_origin = (lat0, lon0), grid_shape=gs, roi_func = 'constant', constant_roi = 2400,\n",
    "                                      weighting_function = 'Cressman',grid_limits=gb, fields=[field])\n",
    "    return grid.fields[field]['data']\n",
    "def var_cressman(radar):\n",
    "    grid = pyart.map.grid_from_radars((radar,), grid_origin = (lat0, lon0), grid_shape=gs, roi_func = 'dist_beam', \n",
    "                                      nb = 1.0, bsp = np.mean(np.diff(radar.fixed_angle['data'])),\n",
    "                                      weighting_function = 'Cressman',grid_limits=gb, fields=[field])\n",
    "    return grid.fields[field]['data']\n",
    "\n",
    "def leroy_grid(radar,coords, field):\n",
    "    with warnings.catch_warnings():\n",
    "        warnings.filterwarnings(\"ignore\")\n",
    "        return leroy.cressman_ppi_interp(radar, coords, 1200, field, k=200, verbose=False)"
   ]
  },
  {
   "cell_type": "code",
   "execution_count": null,
   "metadata": {},
   "outputs": [],
   "source": [
    "save_dir = '/g/data1a/kl02/jb2354/leroy_testing/{}/'.format(date)\n",
    "def run_grids(file_list, field, method = 'leroy'):\n",
    "    times = qc.dt_from_fn(file_list)\n",
    "    maxs, mins = [], []\n",
    "    for file in tqdm(file_list):\n",
    "        with warnings.catch_warnings():\n",
    "            fn = file.split('/')[-1][:-3]+'_'+method\n",
    "            warnings.filterwarnings(\"ignore\")\n",
    "            radar = pyart.io.read(file)\n",
    "            #radar = pyart.aux_io.read_odim_h5(file, file_field_names=True)\n",
    "            #radar = tools.mask_invalid_data(radar, 'corrected_reflectivity', add_to = [field], min_field = 5, min_area = 50, return_smooth = False)\n",
    "            if method =='leroy':\n",
    "                grid = leroy_grid(radar, coords, field)\n",
    "            elif method == 'pyart':\n",
    "                grid = const_cressman(radar, field)\n",
    "            grid.dump(save_dir+fn)"
   ]
  },
  {
   "cell_type": "code",
   "execution_count": 3,
   "metadata": {},
   "outputs": [
    {
     "ename": "NameError",
     "evalue": "name 'date' is not defined",
     "output_type": "error",
     "traceback": [
      "\u001b[0;31m---------------------------------------------------------------------------\u001b[0m",
      "\u001b[0;31mNameError\u001b[0m                                 Traceback (most recent call last)",
      "\u001b[0;32m<ipython-input-3-82dcee3dd89e>\u001b[0m in \u001b[0;36m<module>\u001b[0;34m\u001b[0m\n\u001b[0;32m----> 1\u001b[0;31m \u001b[0msave_dir\u001b[0m \u001b[0;34m=\u001b[0m \u001b[0;34m'/g/data1a/kl02/jb2354/leroy_testing/{}/'\u001b[0m\u001b[0;34m.\u001b[0m\u001b[0mformat\u001b[0m\u001b[0;34m(\u001b[0m\u001b[0mdate\u001b[0m\u001b[0;34m)\u001b[0m\u001b[0;34m\u001b[0m\u001b[0;34m\u001b[0m\u001b[0m\n\u001b[0m\u001b[1;32m      2\u001b[0m \u001b[0mrun_grids\u001b[0m\u001b[0;34m(\u001b[0m\u001b[0mfile_list\u001b[0m\u001b[0;34m,\u001b[0m \u001b[0;34m'corrected_velocity'\u001b[0m\u001b[0;34m,\u001b[0m \u001b[0mmethod\u001b[0m \u001b[0;34m=\u001b[0m \u001b[0;34m'pyart'\u001b[0m\u001b[0;34m)\u001b[0m\u001b[0;34m\u001b[0m\u001b[0;34m\u001b[0m\u001b[0m\n",
      "\u001b[0;31mNameError\u001b[0m: name 'date' is not defined"
     ]
    }
   ],
   "source": [
    "save_dir = '/g/data1a/kl02/jb2354/leroy_testing/{}/'.format(date)\n",
    "run_grids(file_list, 'corrected_velocity', method = 'pyart')"
   ]
  },
  {
   "cell_type": "code",
   "execution_count": null,
   "metadata": {},
   "outputs": [],
   "source": [
    "grid_list = os.listdir(save_dir)\n",
    "grid_list = sorted([(save_dir+x) for x in grid_list if x[-4:] == 'noqc'])\n",
    "print(grid_list[66:67])"
   ]
  },
  {
   "cell_type": "code",
   "execution_count": null,
   "metadata": {},
   "outputs": [],
   "source": [
    "def read_data(file_list):\n",
    "    times = qc.dt_from_fn(file_list)\n",
    "    maxs, mins = [], []\n",
    "    for file in file_list:\n",
    "        grid = np.load(file, allow_pickle = True)\n",
    "        maxs.append(np.nanmax(np.nanmax(grid.filled(np.nan), axis=1),axis=1))\n",
    "        mins.append(np.nanmin(np.nanmin(grid.filled(np.nan), axis=1),axis=1))\n",
    "    return times, np.array(maxs),np.array(mins)\n",
    "times, maxs, mins = read_data(grid_list)"
   ]
  },
  {
   "cell_type": "code",
   "execution_count": null,
   "metadata": {},
   "outputs": [],
   "source": [
    "N, vmin, vmax= 12, -20, 20\n",
    "time = times[66]\n",
    "fig, axs = plot.subplots(nrows = 2, figsize = (8,5))\n",
    "axs[0].pcolormesh(times, z, maxs.T, colorbar = 'r', cmap ='gist_rainbow_r', vmin = vmin, vmax = vmax, N = N)\n",
    "axs[0].format(title = date+r' CPOL Max Doppler (ms$^{-1}$)')\n",
    "axs[1].pcolormesh(times, z, mins.T, colorbar = 'r', cmap ='gist_rainbow_r', vmin = vmin, vmax = vmax, N = N)\n",
    "axs[1].format(title = date+r' CPOL Min Doppler No QC (ms$^{-1}$)')\n",
    "axs[0].plot([time, time], [0,20000], 'k--')\n",
    "axs[1].plot([time, time], [0,20000], 'k--')\n",
    "\n",
    "axs.format(xlabel = 'Time (h, UTC)', ylabel = 'Height (m)')\n",
    "plot.show()"
   ]
  },
  {
   "cell_type": "code",
   "execution_count": null,
   "metadata": {},
   "outputs": [],
   "source": [
    "grid_noqc = np.load('/g/data1a/kl02/jb2354/leroy_testing/20021124/twp10cpolppi.b1.20021124.110000_noqc', allow_pickle = True)\n",
    "grid_noqc = np.load('/g/data1a/kl02/jb2354/leroy_testing/20021124/twp10cpolppi.b1.20021124.110000_pyart', allow_pickle = True)\n",
    "grid_noqc = np.load('/scratch/kl02/leroy_testing/twp10cpolppi.b1.20021124.110000', allow_pickle = True)"
   ]
  },
  {
   "cell_type": "code",
   "execution_count": null,
   "metadata": {},
   "outputs": [],
   "source": [
    "\n",
    "fig,axs =plot.subplots()\n",
    "axs.pcolormesh(grid[1,:,:], cmap ='gist_rainbow_r', vmin = vmin, vmax = vmax, N=N)"
   ]
  }
 ],
 "metadata": {
  "kernelspec": {
   "display_name": "Python [conda env:pyartenv]",
   "language": "python",
   "name": "conda-env-pyartenv-py"
  },
  "language_info": {
   "codemirror_mode": {
    "name": "ipython",
    "version": 3
   },
   "file_extension": ".py",
   "mimetype": "text/x-python",
   "name": "python",
   "nbconvert_exporter": "python",
   "pygments_lexer": "ipython3",
   "version": "3.8.3"
  }
 },
 "nbformat": 4,
 "nbformat_minor": 4
}
