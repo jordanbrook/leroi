{
 "cells": [
  {
   "cell_type": "code",
   "execution_count": 15,
   "id": "continued-raleigh",
   "metadata": {},
   "outputs": [],
   "source": [
    "import warnings\n",
    "import pyart \n",
    "import proplot as plot\n",
    "import numpy as np\n",
    "import leroi\n",
    "import time"
   ]
  },
  {
   "cell_type": "code",
   "execution_count": 6,
   "id": "incident-cemetery",
   "metadata": {},
   "outputs": [
    {
     "name": "stdout",
     "output_type": "stream",
     "text": [
      "dict_keys(['DBZH'])\n"
     ]
    },
    {
     "name": "stderr",
     "output_type": "stream",
     "text": [
      "WARNING: nan_treatment='interpolate', however, NaN values detected post convolution. A contiguous region of NaN values, larger than the kernel size, are present in the input array. Increase the kernel size to avoid this. [astropy.convolution.convolve]\n"
     ]
    }
   ],
   "source": [
    "#read radar data\n",
    "with warnings.catch_warnings():\n",
    "    warnings.filterwarnings(\"ignore\")\n",
    "    radar = pyart.aux_io.read_odim_h5('/home/564/jb2354/dev/leroi/notebook/dev/50_20200915_004154.pvol.h5', \n",
    "                                      file_field_names=True)\n",
    "#mask invalid\n",
    "radar = leroi.mask_invalid_data(radar, 'DBZH', min_field = 100, min_area = 50, return_smooth = False)"
   ]
  },
  {
   "cell_type": "code",
   "execution_count": 31,
   "id": "danish-preservation",
   "metadata": {},
   "outputs": [],
   "source": [
    "#configure gridding\n",
    "gs = (25, 301, 301)\n",
    "gb = ((500, 12000), (-150000,150000),(-150000,150000))\n",
    "center_pos = (0,0,0)\n",
    "x = np.linspace(gb[2][0],gb[2][1], gs[2])\n",
    "y = np.linspace(gb[1][0],gb[1][1], gs[1])\n",
    "z = np.linspace(gb[0][0],gb[0][1], gs[0])\n",
    "coords = (z-center_pos[0], y-center_pos[1], x-center_pos[2])"
   ]
  },
  {
   "cell_type": "code",
   "execution_count": 26,
   "id": "lyric-unknown",
   "metadata": {},
   "outputs": [],
   "source": [
    "def cressman_ppi_interp(\n",
    "    radar,\n",
    "    coords,\n",
    "    field_names=None,\n",
    "    gatefilter=None,\n",
    "    Rc=None,\n",
    "    k=100,\n",
    "    filter_its=0,\n",
    "    verbose=True,\n",
    "    kernel=None,\n",
    "    corr_lens=None,\n",
    "    multiprocessing=True,\n",
    "    ground_elevation=-999,\n",
    "):\n",
    "\n",
    "    t0 = time.time()\n",
    "\n",
    "    if field_names is None:\n",
    "        # No field defined. Processing all fields in radar.\n",
    "        field_names = [*radar.fields.keys()]\n",
    "    if type(field_names) != list:\n",
    "        field_names = [field_names]\n",
    "\n",
    "    fields = {}\n",
    "    dims = [len(coord) for coord in coords]\n",
    "\n",
    "    if Rc is None:\n",
    "        Rc = leroi.leroi.get_leroy_roi(radar, coords)\n",
    "        if verbose:\n",
    "            print(\"Radius of influence set to {} m.\".format(Rc))\n",
    "\n",
    "    dmask = leroi.leroi.get_data_mask(radar, field_names)\n",
    "    weights, idxs, model_idxs, sw, model_lens = leroi.leroi._setup_interpolate(\n",
    "        radar, coords, dmask, Rc, multiprocessing, k, verbose\n",
    "    )\n",
    "    Z, Y, X = np.meshgrid(coords[0], coords[1], coords[2], indexing=\"ij\")\n",
    "    ppi_height = leroi.leroi._calculate_ppi_heights(radar, coords, Rc, multiprocessing, ground_elevation)\n",
    "\n",
    "    if ppi_height.mask.sum() > 0:\n",
    "        warnings.warn(\n",
    "            \"\"\"\\n There are invalid height values which will\n",
    "        ruin the linear interpolation. This most likely means the radar\n",
    "        doesnt cover the entire gridded domain\"\"\"\n",
    "        )\n",
    "\n",
    "    elevations = radar.fixed_angle[\"data\"]\n",
    "\n",
    "    # sort sweep index to process from lowest sweep and ascend\n",
    "    sort_idx = list(np.argsort(elevations))\n",
    "    if 90.0 in elevations:\n",
    "        sort_idx.remove(np.argwhere(elevations == 90))\n",
    "\n",
    "    for field in field_names:\n",
    "        ppis = np.zeros((radar.nsweeps, dims[1] * dims[2]))\n",
    "        mask = np.ones((radar.nsweeps, dims[1] * dims[2]))\n",
    "        for i, j in enumerate(sort_idx):\n",
    "            slc = radar.get_slice(j)\n",
    "            data = radar.fields[field][\"data\"].filled(0)[slc][~dmask[slc]]\n",
    "            if len(data) > 0:\n",
    "                ppis[i, model_idxs[i, : model_lens[i]]] = (\n",
    "                    np.sum(data[idxs[i]] * weights[i], axis=1) / sw[i, model_idxs[i, : model_lens[i]]]\n",
    "                )\n",
    "                mask[i, model_idxs[i, : model_lens[i]]] = 0\n",
    "                out = np.ma.masked_array(\n",
    "                    ppis.reshape((radar.nsweeps, dims[1], dims[2])), mask.reshape((radar.nsweeps, dims[1], dims[2]))\n",
    "                )\n",
    "            else:\n",
    "                out = np.ma.masked_array(np.zeros((radar.nsweeps, dims[1], dims[2])), \n",
    "                                         np.ones((radar.nsweeps, dims[1], dims[2])))\n",
    "\n",
    "        grid = leroi.leroi.interp_along_axis(out.filled(np.nan), ppi_height, Z, axis=0, method=\"linear\")\n",
    "\n",
    "        if filter_its > 0:\n",
    "            grid = leroi.leroi.smooth_grid(grid, coords, kernel, corr_lens, filter_its, verbose)\n",
    "\n",
    "        # add to output dictionary\n",
    "        fields[field] = {\"data\": np.ma.masked_array(grid, mask=np.isnan(grid))}\n",
    "        # copy the metadata from the radar to the grid\n",
    "        for key in radar.fields[field].keys():\n",
    "            if key == \"data\":\n",
    "                continue\n",
    "            fields[field][key] = radar.fields[field][key]\n",
    "\n",
    "    if verbose:\n",
    "        print(\"Took: \", time.time() - t0)\n",
    "\n",
    "    return fields"
   ]
  },
  {
   "cell_type": "code",
   "execution_count": 39,
   "id": "studied-yukon",
   "metadata": {},
   "outputs": [
    {
     "name": "stderr",
     "output_type": "stream",
     "text": [
      "/home/564/jb2354/miniconda3/lib/python3.7/site-packages/ipykernel_launcher.py:43: UserWarning: \n",
      " There are invalid height values which will\n",
      "        ruin the linear interpolation. This most likely means the radar\n",
      "        doesnt cover the entire gridded domain\n"
     ]
    }
   ],
   "source": [
    "fields = cressman_ppi_interp(radar, coords, ['DBZH'], verbose=False)\n",
    "grid = leroi.build_pyart_grid(radar, fields, gs, gb)"
   ]
  },
  {
   "cell_type": "code",
   "execution_count": 41,
   "id": "registered-float",
   "metadata": {},
   "outputs": [
    {
     "data": {
      "text/plain": [
       "{'data': masked_array(\n",
       "   data=[[[--, --, --, ..., --, --, --],\n",
       "          [--, --, --, ..., --, --, --],\n",
       "          [--, --, --, ..., --, --, --],\n",
       "          ...,\n",
       "          [--, --, --, ..., --, --, --],\n",
       "          [--, --, --, ..., --, --, --],\n",
       "          [--, --, --, ..., --, --, --]],\n",
       " \n",
       "         [[--, --, --, ..., --, --, --],\n",
       "          [--, --, --, ..., --, --, --],\n",
       "          [--, --, --, ..., --, --, --],\n",
       "          ...,\n",
       "          [--, --, --, ..., --, --, --],\n",
       "          [--, --, --, ..., --, --, --],\n",
       "          [--, --, --, ..., --, --, --]],\n",
       " \n",
       "         [[--, --, --, ..., --, --, --],\n",
       "          [--, --, --, ..., --, --, --],\n",
       "          [--, --, --, ..., --, --, --],\n",
       "          ...,\n",
       "          [--, --, --, ..., --, --, --],\n",
       "          [--, --, --, ..., --, --, --],\n",
       "          [--, --, --, ..., --, --, --]],\n",
       " \n",
       "         ...,\n",
       " \n",
       "         [[--, --, --, ..., --, --, --],\n",
       "          [--, --, --, ..., --, --, --],\n",
       "          [--, --, --, ..., --, --, --],\n",
       "          ...,\n",
       "          [--, --, --, ..., --, --, --],\n",
       "          [--, --, --, ..., --, --, --],\n",
       "          [--, --, --, ..., --, --, --]],\n",
       " \n",
       "         [[--, --, --, ..., --, --, --],\n",
       "          [--, --, --, ..., --, --, --],\n",
       "          [--, --, --, ..., --, --, --],\n",
       "          ...,\n",
       "          [--, --, --, ..., --, --, --],\n",
       "          [--, --, --, ..., --, --, --],\n",
       "          [--, --, --, ..., --, --, --]],\n",
       " \n",
       "         [[--, --, --, ..., --, --, --],\n",
       "          [--, --, --, ..., --, --, --],\n",
       "          [--, --, --, ..., --, --, --],\n",
       "          ...,\n",
       "          [--, --, --, ..., --, --, --],\n",
       "          [--, --, --, ..., --, --, --],\n",
       "          [--, --, --, ..., --, --, --]]],\n",
       "   mask=[[[ True,  True,  True, ...,  True,  True,  True],\n",
       "          [ True,  True,  True, ...,  True,  True,  True],\n",
       "          [ True,  True,  True, ...,  True,  True,  True],\n",
       "          ...,\n",
       "          [ True,  True,  True, ...,  True,  True,  True],\n",
       "          [ True,  True,  True, ...,  True,  True,  True],\n",
       "          [ True,  True,  True, ...,  True,  True,  True]],\n",
       " \n",
       "         [[ True,  True,  True, ...,  True,  True,  True],\n",
       "          [ True,  True,  True, ...,  True,  True,  True],\n",
       "          [ True,  True,  True, ...,  True,  True,  True],\n",
       "          ...,\n",
       "          [ True,  True,  True, ...,  True,  True,  True],\n",
       "          [ True,  True,  True, ...,  True,  True,  True],\n",
       "          [ True,  True,  True, ...,  True,  True,  True]],\n",
       " \n",
       "         [[ True,  True,  True, ...,  True,  True,  True],\n",
       "          [ True,  True,  True, ...,  True,  True,  True],\n",
       "          [ True,  True,  True, ...,  True,  True,  True],\n",
       "          ...,\n",
       "          [ True,  True,  True, ...,  True,  True,  True],\n",
       "          [ True,  True,  True, ...,  True,  True,  True],\n",
       "          [ True,  True,  True, ...,  True,  True,  True]],\n",
       " \n",
       "         ...,\n",
       " \n",
       "         [[ True,  True,  True, ...,  True,  True,  True],\n",
       "          [ True,  True,  True, ...,  True,  True,  True],\n",
       "          [ True,  True,  True, ...,  True,  True,  True],\n",
       "          ...,\n",
       "          [ True,  True,  True, ...,  True,  True,  True],\n",
       "          [ True,  True,  True, ...,  True,  True,  True],\n",
       "          [ True,  True,  True, ...,  True,  True,  True]],\n",
       " \n",
       "         [[ True,  True,  True, ...,  True,  True,  True],\n",
       "          [ True,  True,  True, ...,  True,  True,  True],\n",
       "          [ True,  True,  True, ...,  True,  True,  True],\n",
       "          ...,\n",
       "          [ True,  True,  True, ...,  True,  True,  True],\n",
       "          [ True,  True,  True, ...,  True,  True,  True],\n",
       "          [ True,  True,  True, ...,  True,  True,  True]],\n",
       " \n",
       "         [[ True,  True,  True, ...,  True,  True,  True],\n",
       "          [ True,  True,  True, ...,  True,  True,  True],\n",
       "          [ True,  True,  True, ...,  True,  True,  True],\n",
       "          ...,\n",
       "          [ True,  True,  True, ...,  True,  True,  True],\n",
       "          [ True,  True,  True, ...,  True,  True,  True],\n",
       "          [ True,  True,  True, ...,  True,  True,  True]]],\n",
       "   fill_value=1e+20,\n",
       "   dtype=float64),\n",
       " '_FillValue': -9999.0}"
      ]
     },
     "execution_count": 41,
     "metadata": {},
     "output_type": "execute_result"
    }
   ],
   "source": [
    "grid.fields['DBZH']"
   ]
  },
  {
   "cell_type": "markdown",
   "id": "tight-lotus",
   "metadata": {},
   "source": [
    "## Maybe a new problem"
   ]
  },
  {
   "cell_type": "code",
   "execution_count": 35,
   "id": "joined-prophet",
   "metadata": {},
   "outputs": [
    {
     "data": {
      "text/plain": [
       "14"
      ]
     },
     "execution_count": 35,
     "metadata": {},
     "output_type": "execute_result"
    }
   ],
   "source": [
    "Rc = leroi.leroi.get_leroy_roi(radar, coords)\n",
    "ppi_height = leroi.leroi._calculate_ppi_heights(radar, coords, Rc, True, 1)\n",
    "ppi_height.mask.sum()"
   ]
  },
  {
   "cell_type": "code",
   "execution_count": 37,
   "id": "chemical-relations",
   "metadata": {},
   "outputs": [
    {
     "data": {
      "text/plain": [
       "(array([ 0,  1,  2,  3,  4,  5,  6,  7,  8,  9, 10, 11, 12, 13]),\n",
       " array([150, 150, 150, 150, 150, 150, 150, 150, 150, 150, 150, 150, 150,\n",
       "        150]),\n",
       " array([150, 150, 150, 150, 150, 150, 150, 150, 150, 150, 150, 150, 150,\n",
       "        150]))"
      ]
     },
     "execution_count": 37,
     "metadata": {},
     "output_type": "execute_result"
    }
   ],
   "source": [
    "np.where(ppi_height.mask==True)"
   ]
  },
  {
   "cell_type": "code",
   "execution_count": 38,
   "id": "closed-stopping",
   "metadata": {},
   "outputs": [
    {
     "data": {
      "text/plain": [
       "(15, 301, 301)"
      ]
     },
     "execution_count": 38,
     "metadata": {},
     "output_type": "execute_result"
    }
   ],
   "source": [
    "ppi_height.shape"
   ]
  },
  {
   "cell_type": "code",
   "execution_count": null,
   "id": "lonely-petersburg",
   "metadata": {},
   "outputs": [],
   "source": []
  }
 ],
 "metadata": {
  "kernelspec": {
   "display_name": "Python 3",
   "language": "python",
   "name": "python3"
  },
  "language_info": {
   "codemirror_mode": {
    "name": "ipython",
    "version": 3
   },
   "file_extension": ".py",
   "mimetype": "text/x-python",
   "name": "python",
   "nbconvert_exporter": "python",
   "pygments_lexer": "ipython3",
   "version": "3.7.10"
  }
 },
 "nbformat": 4,
 "nbformat_minor": 5
}
